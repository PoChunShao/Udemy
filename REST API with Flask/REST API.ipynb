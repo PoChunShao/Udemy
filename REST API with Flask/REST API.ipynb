{
 "cells": [
  {
   "cell_type": "code",
   "execution_count": 25,
   "metadata": {},
   "outputs": [
    {
     "name": "stdout",
     "output_type": "stream",
     "text": [
      "{'message': '已成功刪除商店'}\n",
      "商店id不存在\n"
     ]
    }
   ],
   "source": [
    "# 假设有一个字典，存储了一些商店的信息\n",
    "stores = {\n",
    "    1: {\"name\": \"Store A\", \"location\": \"City X\"},\n",
    "    2: {\"name\": \"Store B\", \"location\": \"City Y\"}\n",
    "}\n",
    "\n",
    "# 删除商店的函数\n",
    "def delete_store(store_id):\n",
    "    try:\n",
    "        del stores[store_id]\n",
    "        return {\"message\": \"已成功刪除商店\"}\n",
    "    except KeyError:\n",
    "        return(\"商店id不存在\")\n",
    "\n",
    "# 尝试删除一个存在的商店\n",
    "print(delete_store(1))  # 输出: {'message': '已成功刪除商店'}\n",
    "\n",
    "# 尝试删除一个不存在的商店\n",
    "print(delete_store(3))  # 将触发 abort 函数"
   ]
  },
  {
   "cell_type": "code",
   "execution_count": null,
   "metadata": {},
   "outputs": [],
   "source": []
  },
  {
   "cell_type": "code",
   "execution_count": null,
   "metadata": {},
   "outputs": [],
   "source": []
  }
 ],
 "metadata": {
  "kernelspec": {
   "display_name": "pytorch",
   "language": "python",
   "name": "python3"
  },
  "language_info": {
   "codemirror_mode": {
    "name": "ipython",
    "version": 3
   },
   "file_extension": ".py",
   "mimetype": "text/x-python",
   "name": "python",
   "nbconvert_exporter": "python",
   "pygments_lexer": "ipython3",
   "version": "3.10.11"
  }
 },
 "nbformat": 4,
 "nbformat_minor": 2
}

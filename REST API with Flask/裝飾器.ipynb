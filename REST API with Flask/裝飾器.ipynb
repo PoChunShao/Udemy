{
 "cells": [
  {
   "cell_type": "code",
   "execution_count": 1,
   "metadata": {},
   "outputs": [
    {
     "data": {
      "text/plain": [
       "'123456'"
      ]
     },
     "execution_count": 1,
     "metadata": {},
     "output_type": "execute_result"
    }
   ],
   "source": [
    "# decorator原理\n",
    "user = {\n",
    "    \"name\":\"popo\",\n",
    "    \"access_level\":\"root\"\n",
    "}\n",
    "\n",
    "def secure(func):\n",
    "    def check_user_level():\n",
    "        if user['access_level'] == \"root\":\n",
    "            return func()\n",
    "        else:\n",
    "            return f\"{user['name']} access reject\"\n",
    "    return check_user_level\n",
    "\n",
    "def get_user_password():\n",
    "    return \"123456\"\n",
    "\n",
    "get_root_password = secure(get_user_password)\n",
    "get_root_password()\n"
   ]
  },
  {
   "cell_type": "code",
   "execution_count": 2,
   "metadata": {},
   "outputs": [
    {
     "name": "stdout",
     "output_type": "stream",
     "text": [
      "popo, access denail\n",
      "get_user_password\n"
     ]
    }
   ],
   "source": [
    "import functools\n",
    "\n",
    "# decorator實作\n",
    "user = {\n",
    "    \"name\":\"popo\",\n",
    "    \"access_level\":\"employee\"\n",
    "}\n",
    "\n",
    "def secure(func):\n",
    "    @functools.wraps(func) # 幫助你保留被裝飾函式的原始信息（如名稱、文檔字串等）\n",
    "    def check_user_level():\n",
    "        if user['access_level'] == \"root\":\n",
    "            return func()\n",
    "        else:\n",
    "            return f\"{user['name']}, access denail\"\n",
    "    return check_user_level\n",
    "\n",
    "# 使用裝飾器應用到一個函式時，實際上是在調用裝飾器函式，並將目標函式作為參數傳遞給裝飾器\n",
    "@secure  # pass get_user_password to secure(func)\n",
    "def get_user_password():\n",
    "    return \"123456\"\n",
    "\n",
    "print(get_user_password())\n",
    "print(get_user_password.__name__)"
   ]
  },
  {
   "cell_type": "code",
   "execution_count": 3,
   "metadata": {},
   "outputs": [
    {
     "name": "stdout",
     "output_type": "stream",
     "text": [
      "60 USD/MONTH\n"
     ]
    }
   ],
   "source": [
    "import functools\n",
    "\n",
    "# decorator實作\n",
    "user = {\n",
    "    \"name\":\"popo\",\n",
    "    \"access_level\":\"admin\"\n",
    "}\n",
    "\n",
    "def secure(func):\n",
    "    @functools.wraps(func) # 幫助你保留被裝飾函式的原始信息（如名稱、文檔字串等）\n",
    "    def check_user_level(*args,**kwargs): # 接收任意參數\n",
    "        if user['access_level'] == \"admin\":\n",
    "            return func(*args,**kwargs)\n",
    "        else:\n",
    "            return f\"{user['name']}, access denail\"\n",
    "    return check_user_level\n",
    "\n",
    "# 使用裝飾器應用到一個函式時，實際上是在調用裝飾器函式，並將目標函式作為參數傳遞給裝飾器\n",
    "@secure  # pass get_user_password to secure(func)\n",
    "def get_user_password(panel):\n",
    "    if panel == \"admin\":\n",
    "        return \"123456\"\n",
    "    elif panel == \"billing\":\n",
    "        return \"60 USD/MONTH\"\n",
    "\n",
    "print(get_user_password(panel=\"billing\"))"
   ]
  },
  {
   "cell_type": "code",
   "execution_count": 6,
   "metadata": {},
   "outputs": [
    {
     "name": "stdout",
     "output_type": "stream",
     "text": [
      "admin_password:123456\n",
      "popo, admin permission not for current usage\n"
     ]
    }
   ],
   "source": [
    "import functools\n",
    "\n",
    "# decorator實作\n",
    "user = {\n",
    "    \"name\":\"popo\",\n",
    "    \"access_level\":\"admin\"\n",
    "}\n",
    "\n",
    "# secure變成裝飾器工廠，它是一個函數，返回一個裝飾器\n",
    "def secure(access_level): # access_level會被傳遞至decorator中\n",
    "    def decorator(func):\n",
    "        @functools.wraps(func) # 幫助你保留被裝飾函式的原始信息（如名稱、文檔字串等）\n",
    "        def check_user_level(*args,**kwargs): # 接收任意參數\n",
    "            if user['access_level'] == access_level:\n",
    "                return func(*args,**kwargs)\n",
    "            else:\n",
    "                return f\"{user['name']}, {user['access_level']} permission not for current usage\"\n",
    "        return check_user_level\n",
    "    return decorator\n",
    "\n",
    "# 能夠根據需要對不同的函數應用不同的訪問控制\n",
    "# 避免為每個訪問級別寫一個單獨的裝飾器\n",
    "# 訪問控制的邏輯與函數本身的邏輯分開\n",
    "@secure(\"admin\")\n",
    "def get_admin_password():\n",
    "    return \"admin_password:123456\"\n",
    "\n",
    "@secure(\"guest\")\n",
    "def get_user_password():\n",
    "    return \"user_password:0000\"\n",
    "\n",
    "print(get_admin_password())\n",
    "print(get_user_password())"
   ]
  },
  {
   "cell_type": "code",
   "execution_count": null,
   "metadata": {},
   "outputs": [],
   "source": []
  }
 ],
 "metadata": {
  "kernelspec": {
   "display_name": "pytorch",
   "language": "python",
   "name": "python3"
  },
  "language_info": {
   "codemirror_mode": {
    "name": "ipython",
    "version": 3
   },
   "file_extension": ".py",
   "mimetype": "text/x-python",
   "name": "python",
   "nbconvert_exporter": "python",
   "pygments_lexer": "ipython3",
   "version": "3.10.11"
  }
 },
 "nbformat": 4,
 "nbformat_minor": 2
}
